{
  "nbformat": 4,
  "nbformat_minor": 0,
  "metadata": {
    "colab": {
      "name": "litpm.ipynb",
      "provenance": [],
      "collapsed_sections": [],
      "mount_file_id": "1YIh-EbKlh_2_3DZKyTB3pr3IASgYMJAx",
      "authorship_tag": "ABX9TyPxYfY/dXZ00c+KEWs2lLq0",
      "include_colab_link": true
    },
    "kernelspec": {
      "name": "python3",
      "display_name": "Python 3"
    },
    "accelerator": "GPU"
  },
  "cells": [
    {
      "cell_type": "markdown",
      "metadata": {
        "id": "view-in-github",
        "colab_type": "text"
      },
      "source": [
        "<a href=\"https://colab.research.google.com/github/konstantin1998/first-repository/blob/master/litpm.ipynb\" target=\"_parent\"><img src=\"https://colab.research.google.com/assets/colab-badge.svg\" alt=\"Open In Colab\"/></a>"
      ]
    },
    {
      "cell_type": "code",
      "metadata": {
        "id": "bDxEwm_vXcLg",
        "colab_type": "code",
        "colab": {
          "base_uri": "https://localhost:8080/",
          "height": 34
        },
        "outputId": "2c0cbf03-c7b4-4e1e-8dc4-e4430928b84f"
      },
      "source": [
        "import os\n",
        "import torch\n",
        "import torch.nn as nn\n",
        "import torch.optim as optim\n",
        "import torch.backends.cudnn as cudnn\n",
        "import torchvision\n",
        "import torchvision.transforms as transforms\n",
        "import torchsummary\n",
        "\n",
        "from tqdm import tqdm_notebook\n",
        "import numpy as np\n",
        "import matplotlib.pyplot as plt\n",
        "from IPython.display import clear_output\n",
        "\n",
        "import PIL\n",
        "import cv2\n",
        "import pandas as pd\n",
        "from sklearn.model_selection import train_test_split\n",
        "%matplotlib inline\n",
        "\n",
        "device = torch.device('cuda') if torch.cuda.is_available() else torch.device('cpu')\n",
        "print(device)"
      ],
      "execution_count": null,
      "outputs": [
        {
          "output_type": "stream",
          "text": [
            "cuda\n"
          ],
          "name": "stdout"
        }
      ]
    },
    {
      "cell_type": "code",
      "metadata": {
        "id": "znuKlvUVIMmk",
        "colab_type": "code",
        "colab": {}
      },
      "source": [
        ""
      ],
      "execution_count": null,
      "outputs": []
    },
    {
      "cell_type": "code",
      "metadata": {
        "id": "ELb85-lTXrXX",
        "colab_type": "code",
        "colab": {
          "base_uri": "https://localhost:8080/",
          "height": 34
        },
        "outputId": "b12aa9ba-7488-4785-982e-1df3d9d2a257"
      },
      "source": [
        "from google.colab import drive\n",
        "drive.mount('/content/drive')"
      ],
      "execution_count": null,
      "outputs": [
        {
          "output_type": "stream",
          "text": [
            "Drive already mounted at /content/drive; to attempt to forcibly remount, call drive.mount(\"/content/drive\", force_remount=True).\n"
          ],
          "name": "stdout"
        }
      ]
    },
    {
      "cell_type": "code",
      "metadata": {
        "id": "7SUNlJzilQGM",
        "colab_type": "code",
        "colab": {}
      },
      "source": [
        "class DataGenerator():\n",
        "  def __init__(self, train_dir, test_dir, results_file):\n",
        "    self.train_dir = train_dir\n",
        "    self.test_dir = test_dir\n",
        "    results_df = pd.read_csv(results_file)\n",
        "    self.results = pd.Series(results_df['score'].values, index=results_df['name'].values)\n",
        "  \n",
        "  def get_quality(self, img_path):\n",
        "    dir, name = os.path.split(img_path)\n",
        "    quality = self.results[name]\n",
        "    return quality\n",
        "\n",
        "  def load_sample(self, path):\n",
        "    try:\n",
        "      img = cv2.imread(path, cv2.IMREAD_GRAYSCALE)\n",
        "      img = img.reshape((1, *img.shape)).astype('float32')\n",
        "      tensor = torch.from_numpy(img)\n",
        "      return tensor\n",
        "    except AttributeError:\n",
        "      print('exception in load_sample:', path)\n",
        "  \n",
        "  def shuffle(self, arr):\n",
        "    part1, part2 = train_test_split(arr, train_size=0.5, random_state=42)\n",
        "    part1.extend(part2)\n",
        "    return part1\n",
        "\n",
        "  def assign_qualities(self, dataset):\n",
        "    items = []\n",
        "    for sample in dataset.samples:\n",
        "      path, label = sample\n",
        "      quality = self.get_quality(path) \n",
        "      sample = (path, float(quality))\n",
        "      items.append(sample)\n",
        "    items = self.shuffle(items)\n",
        "    dataset.samples = items\n",
        "\n",
        "  def prepare_data(self):\n",
        "    trainset = torchvision.datasets.ImageFolder(\n",
        "      root=self.train_dir,\n",
        "      loader=self.load_sample\n",
        "    )\n",
        "    self.assign_qualities(trainset)\n",
        "    trainloader = torch.utils.data.DataLoader(\n",
        "      trainset,\n",
        "      batch_size=60,\n",
        "      shuffle=False,\n",
        "      num_workers=4\n",
        "    )\n",
        "    print(len(trainset.samples))\n",
        "    testset = torchvision.datasets.ImageFolder(\n",
        "      root=self.test_dir,\n",
        "      loader=self.load_sample\n",
        "    )\n",
        "    print(len(testset.samples))\n",
        "    self.assign_qualities(testset)\n",
        "    testloader = torch.utils.data.DataLoader(\n",
        "      testset,\n",
        "      batch_size=20,\n",
        "      shuffle=False, \n",
        "      num_workers=2\n",
        "    )\n",
        "\n",
        "    return trainloader, testloader\n"
      ],
      "execution_count": null,
      "outputs": []
    },
    {
      "cell_type": "code",
      "metadata": {
        "id": "_LaKoXs_HhDm",
        "colab_type": "code",
        "colab": {
          "base_uri": "https://localhost:8080/",
          "height": 51
        },
        "outputId": "7ddcf802-a716-435a-c76f-db0a224f7a17"
      },
      "source": [
        "data_generator = DataGenerator('/content/drive/My Drive/Dataset/cropped534x1000/train',\n",
        "                               '/content/drive/My Drive/Dataset/cropped534x1000/test',\n",
        "                               '/content/drive/My Drive/Dataset/cropped534x1000/results.csv')\n",
        "trainloader, testloader = data_generator.prepare_data()\n"
      ],
      "execution_count": null,
      "outputs": [
        {
          "output_type": "stream",
          "text": [
            "11792\n",
            "2888\n"
          ],
          "name": "stdout"
        }
      ]
    },
    {
      "cell_type": "code",
      "metadata": {
        "id": "bQxDrhO9hqDj",
        "colab_type": "code",
        "colab": {}
      },
      "source": [
        "class Model(nn.Module):\n",
        "  def __init__(self):\n",
        "    super().__init__()\n",
        "    self.conv1 = nn.Sequential(\n",
        "        nn.Conv2d(1, 8, 4),\n",
        "        nn.BatchNorm2d(8),\n",
        "        nn.ReLU(),\n",
        "        nn.MaxPool2d(2)  \n",
        "    )\n",
        "    self.conv2 = nn.Sequential(\n",
        "        nn.Conv2d(in_channels=8, out_channels=16, kernel_size=3, dilation=3),\n",
        "        nn.BatchNorm2d(16),\n",
        "        nn.ReLU(),\n",
        "        nn.MaxPool2d(2)\n",
        "    )    \n",
        "    self.conv3 = nn.Sequential(\n",
        "        nn.Conv2d(16, 32, 4),\n",
        "        nn.BatchNorm2d(32),\n",
        "        nn.ReLU(),\n",
        "        nn.MaxPool2d(2)       \n",
        "    )\n",
        "    self.conv4 = nn.Sequential(\n",
        "        nn.Conv2d(in_channels=32, out_channels=64, kernel_size=3, dilation=3),\n",
        "        nn.BatchNorm2d(64),\n",
        "        nn.ReLU()         \n",
        "    )\n",
        "    self.conv5 = nn.Sequential(\n",
        "        nn.Conv2d(64, 160, 4),\n",
        "        nn.BatchNorm2d(160),\n",
        "        nn.ReLU()       \n",
        "    )\n",
        "    self.conv6 = nn.Sequential(\n",
        "        nn.Conv2d(in_channels=160, out_channels=200, kernel_size=4, dilation=3),\n",
        "        nn.BatchNorm2d(200),\n",
        "        nn.ReLU() \n",
        "    )\n",
        "    self.conv7 = nn.Sequential(\n",
        "        nn.Conv2d(in_channels=200, out_channels=160, kernel_size=4),\n",
        "        nn.BatchNorm2d(160),\n",
        "        nn.ReLU() \n",
        "    )\n",
        "    self.conv8 = nn.Sequential(\n",
        "        nn.Conv2d(in_channels=160, out_channels=128, kernel_size=4, dilation=3),\n",
        "        nn.BatchNorm2d(128),\n",
        "        nn.ReLU() \n",
        "    )\n",
        "    self.conv9 = nn.Sequential(\n",
        "        nn.Conv2d(128, 64, 4),\n",
        "        nn.BatchNorm2d(64),\n",
        "        nn.ReLU()\n",
        "    )\n",
        "    self.conv10 = nn.Sequential(\n",
        "        nn.Conv2d(in_channels=64, out_channels=32, kernel_size=3, dilation=3),\n",
        "        nn.BatchNorm2d(32),\n",
        "        nn.ReLU()\n",
        "    )\n",
        "    self.conv11 = nn.Sequential(\n",
        "        nn.Conv2d(32, 16, 4),\n",
        "        nn.BatchNorm2d(16),\n",
        "        nn.ReLU()\n",
        "    )\n",
        "    self.conv12 = nn.Sequential(\n",
        "        nn.Conv2d(16, 8, 4),\n",
        "        nn.BatchNorm2d(8),\n",
        "        nn.ReLU()\n",
        "    )\n",
        "    self.conv13 = nn.Sequential(\n",
        "        nn.Conv2d(8, 4, 4),\n",
        "        nn.BatchNorm2d(4),\n",
        "        nn.ReLU()\n",
        "    )\n",
        "    self.fc = nn.Linear(4 * 15 * 73, 1)\n",
        "      \n",
        "  def forward(self, x):\n",
        "    x = self.conv1(x)\n",
        "    x = self.conv2(x)\n",
        "    x = self.conv3(x)\n",
        "    x = self.conv4(x)\n",
        "    x = self.conv5(x)\n",
        "    x = self.conv6(x)\n",
        "    x = self.conv7(x)\n",
        "    x = self.conv8(x)\n",
        "    x = self.conv9(x)\n",
        "    x = self.conv10(x)\n",
        "    x = self.conv11(x)\n",
        "    x = self.conv12(x)\n",
        "    x = self.conv13(x)\n",
        "\n",
        "    x = x.view(x.size(0), -1)   \n",
        "    x = self.fc(x)\n",
        "    return x\n"
      ],
      "execution_count": null,
      "outputs": []
    },
    {
      "cell_type": "code",
      "metadata": {
        "id": "9uGnFis_qSt7",
        "colab_type": "code",
        "colab": {
          "base_uri": "https://localhost:8080/",
          "height": 103
        },
        "outputId": "670a449b-0dff-4baa-9158-0c1fe0e3e4eb"
      },
      "source": [
        "#autocast = torch.cuda.amp.autocast\n",
        "\n",
        "scaler = torch.cuda.amp.GradScaler()\n",
        "\n",
        "def train(model, optim, criterion, dataloader, epoch, device):\n",
        "    total = 0\n",
        "    train_loss = 0\n",
        "    \n",
        "    model.train()\n",
        "    for data, label in dataloader:\n",
        "        \n",
        "        data, label = data.to(device), label.to(device)\n",
        "        label = label.float()\n",
        "        with torch.cuda.amp.autocast():\n",
        "          optim.zero_grad()\n",
        "          output = model(data)\n",
        "          output = output.reshape((output.shape[0]))     \n",
        "          loss = criterion(output, label)\n",
        "          \n",
        "        loss = loss.float()  \n",
        "        scaler.scale(loss).backward()\n",
        "        \n",
        "        \n",
        "        scaler.step(optim)\n",
        "        scaler.update()\n",
        "\n",
        "        train_loss += loss.item()\n",
        "        total += output.shape[0]\n",
        "        \n",
        "    return train_loss / total\n",
        "\"\"\"\n",
        "def train(model, optim, criterion, dataloader, epoch, device):\n",
        "    total = 0\n",
        "    train_loss = 0\n",
        "    \n",
        "    model.train()\n",
        "    for data, label in dataloader:\n",
        "        #print(data)\n",
        "        data, label = data.to(device), label.to(device)\n",
        "        optim.zero_grad()\n",
        "        output = model(data)\n",
        "        output = output.reshape((output.shape[0])).float()\n",
        "        label = label.float()\n",
        "        \n",
        "        \n",
        "        loss = criterion(output, label)\n",
        "        loss.backward()\n",
        "        optim.step()\n",
        "        \n",
        "        train_loss += loss.item()\n",
        "        total += output.shape[0]\n",
        "        \n",
        "    return train_loss / total\n",
        "\"\"\""
      ],
      "execution_count": null,
      "outputs": [
        {
          "output_type": "execute_result",
          "data": {
            "application/vnd.google.colaboratory.intrinsic+json": {
              "type": "string"
            },
            "text/plain": [
              "'\\ndef train(model, optim, criterion, dataloader, epoch, device):\\n    total = 0\\n    train_loss = 0\\n    \\n    model.train()\\n    for data, label in dataloader:\\n        #print(data)\\n        data, label = data.to(device), label.to(device)\\n        optim.zero_grad()\\n        output = model(data)\\n        output = output.reshape((output.shape[0])).float()\\n        label = label.float()\\n        \\n        \\n        loss = criterion(output, label)\\n        loss.backward()\\n        optim.step()\\n        \\n        train_loss += loss.item()\\n        total += output.shape[0]\\n        \\n    return train_loss / total\\n'"
            ]
          },
          "metadata": {
            "tags": []
          },
          "execution_count": 10
        }
      ]
    },
    {
      "cell_type": "code",
      "metadata": {
        "id": "ntxD0YuDqYEz",
        "colab_type": "code",
        "colab": {}
      },
      "source": [
        "def test(model, criterion, dataloader, epoch, device):\n",
        "    total = 0\n",
        "    test_loss = 0\n",
        "    \n",
        "    model.eval()\n",
        "    with torch.no_grad():\n",
        "        for data, label in dataloader:\n",
        "            data, label = data.to(device), label.to(device)\n",
        "            output = model(data)\n",
        "            output = output.reshape((output.shape[0])).float()\n",
        "            label = label.float()\n",
        "\n",
        "           \n",
        "\n",
        "            loss = criterion(output, label)\n",
        "            test_loss += loss\n",
        "            total += data.shape[0]\n",
        "    \n",
        "    return test_loss / total"
      ],
      "execution_count": null,
      "outputs": []
    },
    {
      "cell_type": "code",
      "metadata": {
        "id": "1txbi-h6ObJp",
        "colab_type": "code",
        "colab": {
          "base_uri": "https://localhost:8080/",
          "height": 969
        },
        "outputId": "0ef9cea7-92f1-4675-f49a-cc938a5cd464"
      },
      "source": [
        "torch.manual_seed(10)\n",
        "model = Model()\n",
        "torchsummary.summary(model.cuda(), (1, 534, 1000))"
      ],
      "execution_count": null,
      "outputs": [
        {
          "output_type": "stream",
          "text": [
            "----------------------------------------------------------------\n",
            "        Layer (type)               Output Shape         Param #\n",
            "================================================================\n",
            "            Conv2d-1          [-1, 8, 531, 997]             136\n",
            "       BatchNorm2d-2          [-1, 8, 531, 997]              16\n",
            "              ReLU-3          [-1, 8, 531, 997]               0\n",
            "         MaxPool2d-4          [-1, 8, 265, 498]               0\n",
            "            Conv2d-5         [-1, 16, 259, 492]           1,168\n",
            "       BatchNorm2d-6         [-1, 16, 259, 492]              32\n",
            "              ReLU-7         [-1, 16, 259, 492]               0\n",
            "         MaxPool2d-8         [-1, 16, 129, 246]               0\n",
            "            Conv2d-9         [-1, 32, 126, 243]           8,224\n",
            "      BatchNorm2d-10         [-1, 32, 126, 243]              64\n",
            "             ReLU-11         [-1, 32, 126, 243]               0\n",
            "        MaxPool2d-12          [-1, 32, 63, 121]               0\n",
            "           Conv2d-13          [-1, 64, 57, 115]          18,496\n",
            "      BatchNorm2d-14          [-1, 64, 57, 115]             128\n",
            "             ReLU-15          [-1, 64, 57, 115]               0\n",
            "           Conv2d-16         [-1, 160, 54, 112]         164,000\n",
            "      BatchNorm2d-17         [-1, 160, 54, 112]             320\n",
            "             ReLU-18         [-1, 160, 54, 112]               0\n",
            "           Conv2d-19         [-1, 200, 45, 103]         512,200\n",
            "      BatchNorm2d-20         [-1, 200, 45, 103]             400\n",
            "             ReLU-21         [-1, 200, 45, 103]               0\n",
            "           Conv2d-22         [-1, 160, 42, 100]         512,160\n",
            "      BatchNorm2d-23         [-1, 160, 42, 100]             320\n",
            "             ReLU-24         [-1, 160, 42, 100]               0\n",
            "           Conv2d-25          [-1, 128, 33, 91]         327,808\n",
            "      BatchNorm2d-26          [-1, 128, 33, 91]             256\n",
            "             ReLU-27          [-1, 128, 33, 91]               0\n",
            "           Conv2d-28           [-1, 64, 30, 88]         131,136\n",
            "      BatchNorm2d-29           [-1, 64, 30, 88]             128\n",
            "             ReLU-30           [-1, 64, 30, 88]               0\n",
            "           Conv2d-31           [-1, 32, 24, 82]          18,464\n",
            "      BatchNorm2d-32           [-1, 32, 24, 82]              64\n",
            "             ReLU-33           [-1, 32, 24, 82]               0\n",
            "           Conv2d-34           [-1, 16, 21, 79]           8,208\n",
            "      BatchNorm2d-35           [-1, 16, 21, 79]              32\n",
            "             ReLU-36           [-1, 16, 21, 79]               0\n",
            "           Conv2d-37            [-1, 8, 18, 76]           2,056\n",
            "      BatchNorm2d-38            [-1, 8, 18, 76]              16\n",
            "             ReLU-39            [-1, 8, 18, 76]               0\n",
            "           Conv2d-40            [-1, 4, 15, 73]             516\n",
            "      BatchNorm2d-41            [-1, 4, 15, 73]               8\n",
            "             ReLU-42            [-1, 4, 15, 73]               0\n",
            "           Linear-43                    [-1, 1]           4,381\n",
            "================================================================\n",
            "Total params: 1,710,737\n",
            "Trainable params: 1,710,737\n",
            "Non-trainable params: 0\n",
            "----------------------------------------------------------------\n",
            "Input size (MB): 2.04\n",
            "Forward/backward pass size (MB): 263.23\n",
            "Params size (MB): 6.53\n",
            "Estimated Total Size (MB): 271.79\n",
            "----------------------------------------------------------------\n"
          ],
          "name": "stdout"
        }
      ]
    },
    {
      "cell_type": "code",
      "metadata": {
        "id": "_TUNt3PArnJM",
        "colab_type": "code",
        "colab": {}
      },
      "source": [
        "model = model.to(device)\n",
        "\n",
        "criterion = nn.MSELoss()\n",
        "optimizer = optim.Adam(model.parameters(), lr=0.01)\n",
        "scheduler = optim.lr_scheduler.StepLR(optimizer, 2, gamma=0.5)"
      ],
      "execution_count": null,
      "outputs": []
    },
    {
      "cell_type": "code",
      "metadata": {
        "id": "pjnIiZWdrxwd",
        "colab_type": "code",
        "colab": {
          "base_uri": "https://localhost:8080/"
        },
        "outputId": "ca23cbf0-9a8a-40e7-a01f-05b26bfeb81a"
      },
      "source": [
        "train_losses = []\n",
        "test_losses = []\n",
        "\n",
        "best_loss = 1000000\n",
        "num_epochs = 4\n",
        "for i in range(num_epochs):\n",
        "    \n",
        "    train_loss = train(model, optimizer, criterion, trainloader, i, device)\n",
        "    train_losses.append(train_loss)\n",
        "    test_loss = test(model, criterion, testloader, i, device)\n",
        "    scheduler.step(test_loss) \n",
        "    test_losses.append(test_loss)\n",
        "      \n",
        "    if test_loss < best_loss:\n",
        "        print('Saving...')\n",
        "        best_loss = test_loss\n",
        "        torch.save(model, '/content/drive/My Drive/Dataset/cropped534x1000/models/ckpt3_13conv.pth')\n",
        "    \n",
        "    clear_output()\n",
        "    plt.figure(figsize=(18, 9))\n",
        "    plt.plot(np.arange(len(train_losses)), train_losses, label=f'Train, loss: {train_loss:.4f}')\n",
        "    plt.plot(np.arange(len(test_losses)), test_losses, label=f'Test, loss: {test_loss:.4f}')\n",
        "    plt.title(f'Epoch {i}')\n",
        "    plt.legend(loc='best')\n",
        "    plt.show()\n",
        "\n",
        "print('test losses:', test_losses)\n",
        "    "
      ],
      "execution_count": null,
      "outputs": [
        {
          "output_type": "display_data",
          "data": {
            "image/png": "[encoded data removed]",
            "text/plain": [
              "<Figure size 1296x648 with 1 Axes>"
            ]
          },
          "metadata": {
            "tags": [],
            "needs_background": "light"
          }
        },
        {
          "output_type": "stream",
          "text": [
            "test losses: [tensor(11475.0430, device='cuda:0'), tensor(4055.4248, device='cuda:0'), tensor(4055.4248, device='cuda:0'), tensor(4055.4248, device='cuda:0')]\n"
          ],
          "name": "stdout"
        }
      ]
    },
    {
      "cell_type": "code",
      "metadata": {
        "id": "_CIT2omYou-Q",
        "colab_type": "code",
        "colab": {
          "base_uri": "https://localhost:8080/",
          "height": 54
        },
        "outputId": "be456692-758f-445d-d01c-86ddaa8e3a9d"
      },
      "source": [
        "f = open('fake_images.txt')\n",
        "file_names = []\n",
        "for line in f:\n",
        "  file_names.append(line.strip())\n",
        "\n",
        "print(file_names)"
      ],
      "execution_count": null,
      "outputs": [
        {
          "output_type": "stream",
          "text": [
            "['/content/drive/My Drive/Dataset/cropped534x1000/test/images/DS20180906120502_2Conv_2_V60_R200_T5e-07_Tc1_dwns6_V52_S5.9224_29.bmp', '/content/drive/My Drive/Dataset/cropped534x1000/test/images/DS15110731_2Conv_Migr_V60_R200_T0.5e6_Tc1_dwns6_1_V72_S5.8276_42.bmp', '/content/drive/My Drive/Dataset/cropped534x1000/test/images/DS20180906120034_2Conv_3_V41_R200_T5e-07_Tc1_dwns6_V42_S5.9644_25.bmp', '/content/drive/My Drive/Dataset/cropped534x1000/test/images/DS20180906120502_2Conv_1_V60_R200_T5e-07_Tc1_dwns6_V42_S5.9656_32.bmp', '/content/drive/My Drive/Dataset/cropped534x1000/test/images/DS20180906120034_2Conv_3_V41_R200_T5e-07_Tc1_dwns6_V40_S5.9652_0.bmp', '/content/drive/My Drive/Dataset/cropped534x1000/test/images/DS15110731_2Conv_Migr_V60_R200_T0.5e6_Tc1_dwns6_2_V70_S5.8081_65.bmp', '/content/drive/My Drive/Dataset/cropped534x1000/test/images/DS20180906120034_2Conv_2_V42_R200_T5e-07_Tc1_dwns6_V46_S5.9674_16.bmp', '/content/drive/My Drive/Dataset/cropped534x1000/test/images/DS20180906120034_2Conv_2_V42_R200_T5e-07_Tc1_dwns6_V49_S5.9677_41.bmp', '/content/drive/My Drive/Dataset/cropped534x1000/test/images/DS20180906120502_2Conv_Migr_1_V60_R200_T5e-07_Tc1_dwns6_V68_S5.9133_3.bmp', '/content/drive/My Drive/Dataset/cropped534x1000/test/images/DS20180906120502_2Conv_2_V60_R200_T5e-07_Tc1_dwns6_V58_S5.9181_36.bmp', '/content/drive/My Drive/Dataset/cropped534x1000/test/images/DS15110731_2Conv_Migr_V60_R200_T0.5e6_Tc1_dwns6_2_V65_S5.779_55.bmp', '/content/drive/My Drive/Dataset/cropped534x1000/test/images/DS20180906120034_2Conv_Migr_1_V60_R200_T5e-07_Tc1_dwns6_V60_S5.9845_23.bmp', '/content/drive/My Drive/Dataset/cropped534x1000/test/images/St520L1_V58_S5.7845_38.bmp', '/content/drive/My Drive/Dataset/cropped534x1000/test/images/DS20180906120502_2Conv_1_V60_R200_T5e-07_Tc1_dwns6_V76_S5.9272_9.bmp', '/content/drive/My Drive/Dataset/cropped534x1000/test/images/DS20180906120034_2Conv_Migr_3_V42_R200_T5e-07_Tc1_dwns6_V41_S5.965_16.bmp', '/content/drive/My Drive/Dataset/cropped534x1000/test/images/DS20180906120502_2Conv_2_V60_R200_T5e-07_Tc1_dwns6_V68_S5.9137_16.bmp', '/content/drive/My Drive/Dataset/cropped534x1000/test/images/DS20180906120034_2Conv_Migr_3_V42_R200_T5e-07_Tc1_dwns6_V39.75_S5.967_27.bmp', '/content/drive/My Drive/Dataset/cropped534x1000/test/images/DS20180906120502_2Conv_Migr_1_V60_R200_T5e-07_Tc1_dwns6_V72_S5.9214_38.bmp', '/content/drive/My Drive/Dataset/cropped534x1000/test/images/St520L1_V52_S5.8162_64.bmp', '/content/drive/My Drive/Dataset/cropped534x1000/test/images/DS20180906120502_2Conv_3_V60_R200_T5e-07_Tc1_dwns6_V59.5_S5.9144_25.bmp', '/content/drive/My Drive/Dataset/cropped534x1000/test/images/DS15110731_2Conv_Migr_V60_R200_T0.5e6_Tc1_dwns6_2_V55_S5.7978_5.bmp', '/content/drive/My Drive/Dataset/cropped534x1000/test/images/DS20180906120502_2Conv_Migr_1_V60_R200_T5e-07_Tc1_dwns6_V58_S5.9177_33.bmp', '/content/drive/My Drive/Dataset/cropped534x1000/test/images/DS20180906120502_2Conv_Migr_2_V60_R200_T5e-07_Tc1_dwns6_V61_S5.9117_7.bmp', '/content/drive/My Drive/Dataset/cropped534x1000/test/images/DS20180906120034_2Conv_1_V60_R200_T5e-07_Tc1_dwns6_V72_S6.0073_5.bmp', '/content/drive/My Drive/Dataset/cropped534x1000/test/images/DS20180906120502_2Conv_Migr_1_V60_R200_T5e-07_Tc1_dwns6_V54_S5.9215_7.bmp', '/content/drive/My Drive/Dataset/cropped534x1000/test/images/DS15110731_2Conv_Migr_V60_R200_T0.5e6_Tc1_dwns6_2_V72_S5.8276_62.bmp', '/content/drive/My Drive/Dataset/cropped534x1000/test/images/DS20180906120502_2Conv_Migr_2_V60_R200_T5e-07_Tc1_dwns6_V69_S5.9145_31.bmp', '/content/drive/My Drive/Dataset/cropped534x1000/test/images/DS20180906120034_2Conv_3_V41_R200_T5e-07_Tc1_dwns6_V42_S5.9644_14.bmp', '/content/drive/My Drive/Dataset/cropped534x1000/test/images/DS20180906120034_2Conv_Migr_1_V60_R200_T5e-07_Tc1_dwns6_V70_S6.0046_13.bmp', '/content/drive/My Drive/Dataset/cropped534x1000/test/images/DS20180906120502_2Conv_2_V60_R200_T5e-07_Tc1_dwns6_V57_S5.9206_28.bmp', '/content/drive/My Drive/Dataset/cropped534x1000/test/images/DS20180906120502_2Conv_Migr_1_V60_R200_T5e-07_Tc1_dwns6_V48_S5.9485_33.bmp', '/content/drive/My Drive/Dataset/cropped534x1000/test/images/DS20180906120502_2Conv_Migr_1_V60_R200_T5e-07_Tc1_dwns6_V74_S5.924_6.bmp', '/content/drive/My Drive/Dataset/cropped534x1000/test/images/DS20180906120034_2Conv_3_V41_R200_T5e-07_Tc1_dwns6_V40.25_S5.9649_9.bmp', '/content/drive/My Drive/Dataset/cropped534x1000/test/images/DS15110731_2Conv_Migr_V60_R200_T0.5e6_Tc1_dwns6_3_V60_S5.7736_1.bmp', '/content/drive/My Drive/Dataset/cropped534x1000/test/images/DS20180906120034_2Conv_Migr_2_V42_R200_T5e-07_Tc1_dwns6_V38_S5.9722_18.bmp', '/content/drive/My Drive/Dataset/cropped534x1000/test/images/DS15110731_2Conv_Migr_V60_R200_T0.5e6_Tc1_dwns6_2_V54_S5.8031_1.bmp', '/content/drive/My Drive/Dataset/cropped534x1000/test/images/DS20180906120502_2Conv_2_V60_R200_T5e-07_Tc1_dwns6_V53_S5.9199_7.bmp', '/content/drive/My Drive/Dataset/cropped534x1000/test/images/DS20180906120034_2Conv_Migr_2_V42_R200_T5e-07_Tc1_dwns6_V42_S5.9649_31.bmp', '/content/drive/My Drive/Dataset/cropped534x1000/test/images/DS20180906120034_2Conv_Migr_3_V42_R200_T5e-07_Tc1_dwns6_V42_S5.9649_18.bmp', '/content/drive/My Drive/Dataset/cropped534x1000/test/images/DS20180906120502_2Conv_Migr_1_V60_R200_T5e-07_Tc1_dwns6_V80_S5.9403_0.bmp', '/content/drive/My Drive/Dataset/cropped534x1000/test/images/DS15110731_2Conv_Migr_V60_R200_T0.5e6_Tc1_dwns6_2_V63_S5.7735_16.bmp', '/content/drive/My Drive/Dataset/cropped534x1000/test/images/DS20180906120034_2Conv_Migr_1_V60_R200_T5e-07_Tc1_dwns6_V46_S5.9672_17.bmp', '/content/drive/My Drive/Dataset/cropped534x1000/test/images/DS20180906120034_2Conv_1_V60_R200_T5e-07_Tc1_dwns6_V50_S5.9684_26.bmp', '/content/drive/My Drive/Dataset/cropped534x1000/test/images/DS15110731_2Conv_Migr_V60_R200_T0.5e6_Tc1_dwns6_3_V61.25_S5.7707_30.bmp', '/content/drive/My Drive/Dataset/cropped534x1000/test/images/St520L2_V56_S5.7946_27.bmp', '/content/drive/My Drive/Dataset/cropped534x1000/test/images/DS20180906120034_2Conv_1_V60_R200_T5e-07_Tc1_dwns6_V80_S6.0332_27.bmp', '/content/drive/My Drive/Dataset/cropped534x1000/test/images/DS20180906120502_2Conv_Migr_2_V60_R200_T5e-07_Tc1_dwns6_V50_S5.9416_8.bmp', '/content/drive/My Drive/Dataset/cropped534x1000/test/images/DS20180906120502_2Conv_2_V60_R200_T5e-07_Tc1_dwns6_V62_S5.9148_9.bmp', '/content/drive/My Drive/Dataset/cropped534x1000/test/images/DS20180906120502_2Conv_3_V60_R200_T5e-07_Tc1_dwns6_V62.5_S5.9158_30.bmp', '/content/drive/My Drive/Dataset/cropped534x1000/test/images/St520L2_V61_S5.7721_64.bmp', '/content/drive/My Drive/Dataset/cropped534x1000/test/images/DS20180906120502_2Conv_Migr_1_V60_R200_T5e-07_Tc1_dwns6_V78_S5.9312_23.bmp', '/content/drive/My Drive/Dataset/cropped534x1000/test/images/DS20180906120502_2Conv_Migr_1_V60_R200_T5e-07_Tc1_dwns6_V60_S5.9122_11.bmp', '/content/drive/My Drive/Dataset/cropped534x1000/test/images/DS20180906120502_2Conv_2_V60_R200_T5e-07_Tc1_dwns6_V57_S5.9206_8.bmp', '/content/drive/My Drive/Dataset/cropped534x1000/test/images/DS20180906120502_2Conv_Migr_2_V60_R200_T5e-07_Tc1_dwns6_V58_S5.9177_32.bmp', '/content/drive/My Drive/Dataset/cropped534x1000/test/images/DS20180906120502_2Conv_Migr_2_V60_R200_T5e-07_Tc1_dwns6_V50_S5.9416_18.bmp', '/content/drive/My Drive/Dataset/cropped534x1000/test/images/DS20180906120502_2Conv_Migr_2_V60_R200_T5e-07_Tc1_dwns6_V54_S5.9215_40.bmp', '/content/drive/My Drive/Dataset/cropped534x1000/test/images/DS20180906120502_2Conv_Migr_1_V60_R200_T5e-07_Tc1_dwns6_V48_S5.9485_3.bmp', '/content/drive/My Drive/Dataset/cropped534x1000/test/images/DS20180906120502_2Conv_1_V60_R200_T5e-07_Tc1_dwns6_V70_S5.9175_4.bmp', '/content/drive/My Drive/Dataset/cropped534x1000/test/images/DS15110731_2Conv_Migr_V60_R200_T0.5e6_Tc1_dwns6_2_V63_S5.7735_57.bmp', '/content/drive/My Drive/Dataset/cropped534x1000/test/images/DS20180906120502_2Conv_Migr_2_V60_R200_T5e-07_Tc1_dwns6_V64_S5.9175_31.bmp', '/content/drive/My Drive/Dataset/cropped534x1000/test/images/DS20180906120502_2Conv_Migr_2_V60_R200_T5e-07_Tc1_dwns6_V63_S5.9155_13.bmp', '/content/drive/My Drive/Dataset/cropped534x1000/test/images/DS20180906120502_2Conv_3_V60_R200_T5e-07_Tc1_dwns6_V57.5_S5.9196_31.bmp']\n"
          ],
          "name": "stdout"
        }
      ]
    },
    {
      "cell_type": "code",
      "metadata": {
        "id": "h_eLrD21pKEa",
        "colab_type": "code",
        "colab": {
          "base_uri": "https://localhost:8080/",
          "height": 51
        },
        "outputId": "53163eed-0215-4d76-d641-9d2c87e7b485"
      },
      "source": [
        "import os\n",
        "\n",
        "for file_name in file_names:\n",
        "  try:\n",
        "    os.remove(file_name)\n",
        "  except FileNotFoundError:\n",
        "    print(file_name)"
      ],
      "execution_count": null,
      "outputs": [
        {
          "output_type": "stream",
          "text": [
            "/content/drive/My Drive/Dataset/cropped534x1000/test/images/DS20180906120502_2Conv_Migr_2_V60_R200_T5e-07_Tc1_dwns6_V63_S5.9155_13.bmp\n",
            "/content/drive/My Drive/Dataset/cropped534x1000/test/images/DS20180906120502_2Conv_3_V60_R200_T5e-07_Tc1_dwns6_V57.5_S5.9196_31.bmp\n"
          ],
          "name": "stdout"
        }
      ]
    }
  ]
}