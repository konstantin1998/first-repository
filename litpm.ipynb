{
  "nbformat": 4,
  "nbformat_minor": 0,
  "metadata": {
    "colab": {
      "name": "litpm.ipynb",
      "provenance": [],
      "collapsed_sections": [],
      "mount_file_id": "1YIh-EbKlh_2_3DZKyTB3pr3IASgYMJAx",
      "authorship_tag": "ABX9TyOhdGbZvBQfSt5CR0yrNQaY",
      "include_colab_link": true
    },
    "kernelspec": {
      "name": "python3",
      "display_name": "Python 3"
    },
    "accelerator": "GPU"
  },
  "cells": [
    {
      "cell_type": "markdown",
      "metadata": {
        "id": "view-in-github",
        "colab_type": "text"
      },
      "source": [
        "<a href=\"https://colab.research.google.com/github/konstantin1998/first-repository/blob/master/litpm.ipynb\" target=\"_parent\"><img src=\"https://colab.research.google.com/assets/colab-badge.svg\" alt=\"Open In Colab\"/></a>"
      ]
    },
    {
      "cell_type": "code",
      "metadata": {
        "id": "bDxEwm_vXcLg",
        "colab_type": "code",
        "colab": {
          "base_uri": "https://localhost:8080/",
          "height": 34
        },
        "outputId": "7924d211-3e1c-47bd-93f1-c7c7c49c90fd"
      },
      "source": [
        "import os\n",
        "import torch\n",
        "import torch.nn as nn\n",
        "import torch.optim as optim\n",
        "import torch.backends.cudnn as cudnn\n",
        "#import torch.cuda.amp.GradScaler as GradScaler\n",
        "#import torch.cuda.amp.autocast as autocast\n",
        "import torchvision\n",
        "import torchvision.transforms as transforms\n",
        "import torchsummary\n",
        "\n",
        "from tqdm import tqdm_notebook\n",
        "import numpy as np\n",
        "import matplotlib.pyplot as plt\n",
        "from IPython.display import clear_output\n",
        "\n",
        "import PIL\n",
        "import cv2\n",
        "import pandas as pd\n",
        "from sklearn.model_selection import train_test_split\n",
        "%matplotlib inline\n",
        "\n",
        "device = torch.device('cuda') if torch.cuda.is_available() else torch.device('cpu')\n",
        "print(device)"
      ],
      "execution_count": 1,
      "outputs": [
        {
          "output_type": "stream",
          "text": [
            "cuda\n"
          ],
          "name": "stdout"
        }
      ]
    },
    {
      "cell_type": "code",
      "metadata": {
        "id": "znuKlvUVIMmk",
        "colab_type": "code",
        "colab": {}
      },
      "source": [
        ""
      ],
      "execution_count": 1,
      "outputs": []
    },
    {
      "cell_type": "code",
      "metadata": {
        "id": "ELb85-lTXrXX",
        "colab_type": "code",
        "colab": {
          "base_uri": "https://localhost:8080/",
          "height": 34
        },
        "outputId": "2dbafbba-862a-401b-ae6b-b97bd7947337"
      },
      "source": [
        "from google.colab import drive\n",
        "drive.mount('/content/drive')"
      ],
      "execution_count": 2,
      "outputs": [
        {
          "output_type": "stream",
          "text": [
            "Drive already mounted at /content/drive; to attempt to forcibly remount, call drive.mount(\"/content/drive\", force_remount=True).\n"
          ],
          "name": "stdout"
        }
      ]
    },
    {
      "cell_type": "code",
      "metadata": {
        "id": "7SUNlJzilQGM",
        "colab_type": "code",
        "colab": {}
      },
      "source": [
        "class DataGenerator():\n",
        "  def __init__(self, train_dir, test_dir, results_file):\n",
        "    self.train_dir = train_dir\n",
        "    self.test_dir = test_dir\n",
        "    results_df = pd.read_csv(results_file)\n",
        "    self.results = pd.Series(results_df['score'].values, index=results_df['name'].values)\n",
        "  \n",
        "  def get_quality(self, img_path):\n",
        "    dir, name = os.path.split(img_path)\n",
        "    quality = self.results[name]\n",
        "    return quality\n",
        "\n",
        "  def load_sample(self, path):\n",
        "    img = cv2.imread(path, cv2.IMREAD_GRAYSCALE)\n",
        "    img = img.reshape((1, *img.shape)).astype('float32')\n",
        "    tensor = torch.from_numpy(img)\n",
        "    return tensor\n",
        "  \n",
        "  def shuffle(self, arr):\n",
        "    part1, part2 = train_test_split(arr, train_size=0.5, random_state=42)\n",
        "    part1.extend(part2)\n",
        "    return part1\n",
        "\n",
        "  def assign_qualities(self, dataset):\n",
        "    items = []\n",
        "    for sample in dataset.samples:\n",
        "      path, label = sample\n",
        "      quality = self.get_quality(path) \n",
        "      sample = (path, float(quality))\n",
        "      items.append(sample)\n",
        "    items = self.shuffle(items)\n",
        "    dataset.samples = items\n",
        "\n",
        "  def prepare_data(self):\n",
        "    trainset = torchvision.datasets.ImageFolder(\n",
        "      root=self.train_dir,\n",
        "      loader=self.load_sample\n",
        "    )\n",
        "    self.assign_qualities(trainset)\n",
        "    trainloader = torch.utils.data.DataLoader(\n",
        "      trainset,\n",
        "      batch_size=90,\n",
        "      shuffle=False,\n",
        "      num_workers=4\n",
        "    )\n",
        "    print(len(trainset.samples))\n",
        "    testset = torchvision.datasets.ImageFolder(\n",
        "      root=self.test_dir,\n",
        "      loader=self.load_sample\n",
        "    )\n",
        "    print(len(testset.samples))\n",
        "    self.assign_qualities(testset)\n",
        "    testloader = torch.utils.data.DataLoader(\n",
        "      testset,\n",
        "      batch_size=20,\n",
        "      shuffle=False, \n",
        "      num_workers=2\n",
        "    )\n",
        "\n",
        "    return trainloader, testloader\n"
      ],
      "execution_count": 3,
      "outputs": []
    },
    {
      "cell_type": "code",
      "metadata": {
        "id": "_LaKoXs_HhDm",
        "colab_type": "code",
        "colab": {
          "base_uri": "https://localhost:8080/",
          "height": 51
        },
        "outputId": "b40fd74d-910a-4bbb-94fa-bfe738a6d4ee"
      },
      "source": [
        "data_generator = DataGenerator('/content/drive/My Drive/Dataset/cropped534x1000/train',\n",
        "                               '/content/drive/My Drive/Dataset/cropped534x1000/test',\n",
        "                               '/content/drive/My Drive/Dataset/cropped534x1000/augmentated_results.csv')\n",
        "trainloader, testloader = data_generator.prepare_data()"
      ],
      "execution_count": 4,
      "outputs": [
        {
          "output_type": "stream",
          "text": [
            "15723\n",
            "2950\n"
          ],
          "name": "stdout"
        }
      ]
    },
    {
      "cell_type": "code",
      "metadata": {
        "id": "bQxDrhO9hqDj",
        "colab_type": "code",
        "colab": {}
      },
      "source": [
        "class Model(nn.Module):\n",
        "  def __init__(self):\n",
        "    super().__init__()\n",
        "    self.conv1 = nn.Sequential(\n",
        "        nn.Conv2d(1, 8, 4),\n",
        "        nn.BatchNorm2d(8),\n",
        "        nn.ReLU(),\n",
        "        nn.MaxPool2d(2)  \n",
        "    )\n",
        "    self.conv2 = nn.Sequential(\n",
        "        nn.Conv2d(in_channels=8, out_channels=16, kernel_size=3, dilation=3),\n",
        "        nn.BatchNorm2d(16),\n",
        "        nn.ReLU(),\n",
        "        nn.MaxPool2d(2)\n",
        "    )    \n",
        "    self.conv3 = nn.Sequential(\n",
        "        nn.Conv2d(16, 32, 4),\n",
        "        nn.BatchNorm2d(32),\n",
        "        nn.ReLU(),\n",
        "        nn.MaxPool2d(2)       \n",
        "    )\n",
        "    self.conv4 = nn.Sequential(\n",
        "        nn.Conv2d(in_channels=32, out_channels=64, kernel_size=3, dilation=3),\n",
        "        nn.BatchNorm2d(64),\n",
        "        nn.ReLU()         \n",
        "    )\n",
        "    self.conv5 = nn.Sequential(\n",
        "        nn.Conv2d(64, 160, 4),\n",
        "        nn.BatchNorm2d(160),\n",
        "        nn.ReLU()       \n",
        "    )\n",
        "    self.conv6 = nn.Sequential(\n",
        "        nn.Conv2d(in_channels=160, out_channels=128, kernel_size=4, dilation=3),\n",
        "        nn.BatchNorm2d(128),\n",
        "        nn.ReLU() \n",
        "    )\n",
        "    self.conv7 = nn.Sequential(\n",
        "        nn.Conv2d(128, 64, 4),\n",
        "        nn.BatchNorm2d(64),\n",
        "        nn.ReLU()\n",
        "    )\n",
        "    self.conv8 = nn.Sequential(\n",
        "        nn.Conv2d(in_channels=64, out_channels=32, kernel_size=3, dilation=3),\n",
        "        nn.BatchNorm2d(32),\n",
        "        nn.ReLU()\n",
        "    )\n",
        "    self.conv9 = nn.Sequential(\n",
        "        nn.Conv2d(32, 16, 4),\n",
        "        nn.BatchNorm2d(16),\n",
        "        nn.ReLU()\n",
        "    )\n",
        "    self.conv10 = nn.Sequential(\n",
        "        nn.Conv2d(16, 8, 4),\n",
        "        nn.BatchNorm2d(8),\n",
        "        nn.ReLU()\n",
        "    )\n",
        "    self.conv11 = nn.Sequential(\n",
        "        nn.Conv2d(8, 4, 4),\n",
        "        nn.BatchNorm2d(4),\n",
        "        nn.ReLU()\n",
        "    )\n",
        "    self.fc = nn.Linear(4 * 27 * 85, 1)\n",
        "      \n",
        "  def forward(self, x):\n",
        "    x = self.conv1(x)\n",
        "    x = self.conv2(x)\n",
        "    x = self.conv3(x)\n",
        "    x = self.conv4(x)\n",
        "    x = self.conv5(x)\n",
        "    x = self.conv6(x)\n",
        "    x = self.conv7(x)\n",
        "    x = self.conv8(x)\n",
        "    x = self.conv9(x)\n",
        "    x = self.conv10(x)\n",
        "    x = self.conv11(x)\n",
        "\n",
        "    x = x.view(x.size(0), -1)   \n",
        "    x = self.fc(x)\n",
        "    return x\n"
      ],
      "execution_count": 5,
      "outputs": []
    },
    {
      "cell_type": "code",
      "metadata": {
        "id": "9uGnFis_qSt7",
        "colab_type": "code",
        "colab": {}
      },
      "source": [
        "#autocast = torch.cuda.amp.autocast\n",
        "scaler = torch.cuda.amp.GradScaler()\n",
        "\n",
        "def train(model, optim, criterion, dataloader, epoch, device):\n",
        "    total = 0\n",
        "    train_loss = 0\n",
        "    \n",
        "    model.train()\n",
        "    for data, label in dataloader:\n",
        "        \n",
        "        data, label = data.to(device), label.to(device)\n",
        "        with torch.cuda.amp.autocast():\n",
        "          optim.zero_grad()\n",
        "          output = model(data)\n",
        "          output = output.reshape((output.shape[0]))       \n",
        "          loss = criterion(output, label)\n",
        "          print('loss type under autocast', loss.dtype)\n",
        "        print('loss type after autocast', loss.dtype)\n",
        "        loss = loss.float()\n",
        "        print('loss type after casting', loss.dtype)\n",
        "        scaler.scale(loss).backward()\n",
        "        scaler.step(optim)\n",
        "        scaler.update()\n",
        "\n",
        "        train_loss += loss.item()\n",
        "        total += output.shape[0]\n",
        "        \n",
        "    return train_loss / total"
      ],
      "execution_count": 6,
      "outputs": []
    },
    {
      "cell_type": "code",
      "metadata": {
        "id": "ntxD0YuDqYEz",
        "colab_type": "code",
        "colab": {}
      },
      "source": [
        "def test(model, criterion, dataloader, epoch, device):\n",
        "    total = 0\n",
        "    test_loss = 0\n",
        "    \n",
        "    model.eval()\n",
        "    with torch.no_grad():\n",
        "        for data, label in dataloader:\n",
        "            data, label = data.to(device), label.to(device)\n",
        "            output = model(data)\n",
        "            output = output.reshape((output.shape[0])).float()\n",
        "            label = label.float()\n",
        "\n",
        "           \n",
        "\n",
        "            loss = criterion(output, label)\n",
        "            test_loss += loss\n",
        "            total += data.shape[0]\n",
        "    \n",
        "    return test_loss / total"
      ],
      "execution_count": 7,
      "outputs": []
    },
    {
      "cell_type": "code",
      "metadata": {
        "id": "1txbi-h6ObJp",
        "colab_type": "code",
        "colab": {
          "base_uri": "https://localhost:8080/",
          "height": 867
        },
        "outputId": "b2e2741f-8dca-4483-c87f-0058fcb32870"
      },
      "source": [
        "torch.manual_seed(10)\n",
        "model = Model()\n",
        "torchsummary.summary(model.cuda(), (1, 534, 1000))"
      ],
      "execution_count": 8,
      "outputs": [
        {
          "output_type": "stream",
          "text": [
            "----------------------------------------------------------------\n",
            "        Layer (type)               Output Shape         Param #\n",
            "================================================================\n",
            "            Conv2d-1          [-1, 8, 531, 997]             136\n",
            "       BatchNorm2d-2          [-1, 8, 531, 997]              16\n",
            "              ReLU-3          [-1, 8, 531, 997]               0\n",
            "         MaxPool2d-4          [-1, 8, 265, 498]               0\n",
            "            Conv2d-5         [-1, 16, 259, 492]           1,168\n",
            "       BatchNorm2d-6         [-1, 16, 259, 492]              32\n",
            "              ReLU-7         [-1, 16, 259, 492]               0\n",
            "         MaxPool2d-8         [-1, 16, 129, 246]               0\n",
            "            Conv2d-9         [-1, 32, 126, 243]           8,224\n",
            "      BatchNorm2d-10         [-1, 32, 126, 243]              64\n",
            "             ReLU-11         [-1, 32, 126, 243]               0\n",
            "        MaxPool2d-12          [-1, 32, 63, 121]               0\n",
            "           Conv2d-13          [-1, 64, 57, 115]          18,496\n",
            "      BatchNorm2d-14          [-1, 64, 57, 115]             128\n",
            "             ReLU-15          [-1, 64, 57, 115]               0\n",
            "           Conv2d-16         [-1, 160, 54, 112]         164,000\n",
            "      BatchNorm2d-17         [-1, 160, 54, 112]             320\n",
            "             ReLU-18         [-1, 160, 54, 112]               0\n",
            "           Conv2d-19         [-1, 128, 45, 103]         327,808\n",
            "      BatchNorm2d-20         [-1, 128, 45, 103]             256\n",
            "             ReLU-21         [-1, 128, 45, 103]               0\n",
            "           Conv2d-22          [-1, 64, 42, 100]         131,136\n",
            "      BatchNorm2d-23          [-1, 64, 42, 100]             128\n",
            "             ReLU-24          [-1, 64, 42, 100]               0\n",
            "           Conv2d-25           [-1, 32, 36, 94]          18,464\n",
            "      BatchNorm2d-26           [-1, 32, 36, 94]              64\n",
            "             ReLU-27           [-1, 32, 36, 94]               0\n",
            "           Conv2d-28           [-1, 16, 33, 91]           8,208\n",
            "      BatchNorm2d-29           [-1, 16, 33, 91]              32\n",
            "             ReLU-30           [-1, 16, 33, 91]               0\n",
            "           Conv2d-31            [-1, 8, 30, 88]           2,056\n",
            "      BatchNorm2d-32            [-1, 8, 30, 88]              16\n",
            "             ReLU-33            [-1, 8, 30, 88]               0\n",
            "           Conv2d-34            [-1, 4, 27, 85]             516\n",
            "      BatchNorm2d-35            [-1, 4, 27, 85]               8\n",
            "             ReLU-36            [-1, 4, 27, 85]               0\n",
            "           Linear-37                    [-1, 1]           9,181\n",
            "================================================================\n",
            "Total params: 690,457\n",
            "Trainable params: 690,457\n",
            "Non-trainable params: 0\n",
            "----------------------------------------------------------------\n",
            "Input size (MB): 2.04\n",
            "Forward/backward pass size (MB): 235.57\n",
            "Params size (MB): 2.63\n",
            "Estimated Total Size (MB): 240.24\n",
            "----------------------------------------------------------------\n"
          ],
          "name": "stdout"
        }
      ]
    },
    {
      "cell_type": "code",
      "metadata": {
        "id": "_TUNt3PArnJM",
        "colab_type": "code",
        "colab": {}
      },
      "source": [
        "model = model.to(device)\n",
        "\n",
        "criterion = nn.MSELoss()\n",
        "optimizer = optim.Adam(model.parameters(), lr=0.01)\n",
        "scheduler = optim.lr_scheduler.StepLR(optimizer, 2, gamma=0.5)"
      ],
      "execution_count": 9,
      "outputs": []
    },
    {
      "cell_type": "code",
      "metadata": {
        "id": "pjnIiZWdrxwd",
        "colab_type": "code",
        "colab": {
          "base_uri": "https://localhost:8080/",
          "height": 1000
        },
        "outputId": "b0b7734f-88cd-47c7-b1f1-b9839ee35163"
      },
      "source": [
        "train_losses = []\n",
        "test_losses = []\n",
        "\n",
        "best_loss = 1000000\n",
        "num_epochs = 4\n",
        "for i in range(num_epochs):\n",
        "    \n",
        "    train_loss = train(model, optimizer, criterion, trainloader, i, device)\n",
        "    train_losses.append(train_loss)\n",
        "    test_loss = test(model, criterion, testloader, i, device)\n",
        "    scheduler.step(test_loss) \n",
        "    test_losses.append(test_loss)\n",
        "      \n",
        "    if test_loss < best_loss:\n",
        "        print('Saving...')\n",
        "        best_loss = test_loss\n",
        "        torch.save(model, '/content/drive/My Drive/Dataset/cropped534x1000/models/ckpt3_11conv.pth')\n",
        "    \n",
        "    clear_output()\n",
        "    plt.figure(figsize=(18, 9))\n",
        "    plt.plot(np.arange(len(train_losses)), train_losses, label=f'Train, loss: {train_loss:.4f}')\n",
        "    plt.plot(np.arange(len(test_losses)), test_losses, label=f'Test, loss: {test_loss:.4f}')\n",
        "    plt.title(f'Epoch {i}')\n",
        "    plt.legend(loc='best')\n",
        "    plt.show()\n",
        "\n",
        "print('test losses:', test_losses)\n",
        "    "
      ],
      "execution_count": 10,
      "outputs": [
        {
          "output_type": "stream",
          "text": [
            "loss type under autocast torch.float64\n",
            "loss type after autocast torch.float64\n",
            "loss type after casting torch.float32\n"
          ],
          "name": "stdout"
        },
        {
          "output_type": "error",
          "ename": "RuntimeError",
          "evalue": "ignored",
          "traceback": [
            "\u001b[0;31m---------------------------------------------------------------------------\u001b[0m",
            "\u001b[0;31mRuntimeError\u001b[0m                              Traceback (most recent call last)",
            "\u001b[0;32m<ipython-input-10-842218a70bca>\u001b[0m in \u001b[0;36m<module>\u001b[0;34m()\u001b[0m\n\u001b[1;32m      6\u001b[0m \u001b[0;32mfor\u001b[0m \u001b[0mi\u001b[0m \u001b[0;32min\u001b[0m \u001b[0mrange\u001b[0m\u001b[0;34m(\u001b[0m\u001b[0mnum_epochs\u001b[0m\u001b[0;34m)\u001b[0m\u001b[0;34m:\u001b[0m\u001b[0;34m\u001b[0m\u001b[0;34m\u001b[0m\u001b[0m\n\u001b[1;32m      7\u001b[0m \u001b[0;34m\u001b[0m\u001b[0m\n\u001b[0;32m----> 8\u001b[0;31m     \u001b[0mtrain_loss\u001b[0m \u001b[0;34m=\u001b[0m \u001b[0mtrain\u001b[0m\u001b[0;34m(\u001b[0m\u001b[0mmodel\u001b[0m\u001b[0;34m,\u001b[0m \u001b[0moptimizer\u001b[0m\u001b[0;34m,\u001b[0m \u001b[0mcriterion\u001b[0m\u001b[0;34m,\u001b[0m \u001b[0mtrainloader\u001b[0m\u001b[0;34m,\u001b[0m \u001b[0mi\u001b[0m\u001b[0;34m,\u001b[0m \u001b[0mdevice\u001b[0m\u001b[0;34m)\u001b[0m\u001b[0;34m\u001b[0m\u001b[0;34m\u001b[0m\u001b[0m\n\u001b[0m\u001b[1;32m      9\u001b[0m     \u001b[0mtrain_losses\u001b[0m\u001b[0;34m.\u001b[0m\u001b[0mappend\u001b[0m\u001b[0;34m(\u001b[0m\u001b[0mtrain_loss\u001b[0m\u001b[0;34m)\u001b[0m\u001b[0;34m\u001b[0m\u001b[0;34m\u001b[0m\u001b[0m\n\u001b[1;32m     10\u001b[0m     \u001b[0mtest_loss\u001b[0m \u001b[0;34m=\u001b[0m \u001b[0mtest\u001b[0m\u001b[0;34m(\u001b[0m\u001b[0mmodel\u001b[0m\u001b[0;34m,\u001b[0m \u001b[0mcriterion\u001b[0m\u001b[0;34m,\u001b[0m \u001b[0mtestloader\u001b[0m\u001b[0;34m,\u001b[0m \u001b[0mi\u001b[0m\u001b[0;34m,\u001b[0m \u001b[0mdevice\u001b[0m\u001b[0;34m)\u001b[0m\u001b[0;34m\u001b[0m\u001b[0;34m\u001b[0m\u001b[0m\n",
            "\u001b[0;32m<ipython-input-6-062c6069a3b1>\u001b[0m in \u001b[0;36mtrain\u001b[0;34m(model, optim, criterion, dataloader, epoch, device)\u001b[0m\n\u001b[1;32m     19\u001b[0m         \u001b[0mloss\u001b[0m \u001b[0;34m=\u001b[0m \u001b[0mloss\u001b[0m\u001b[0;34m.\u001b[0m\u001b[0mfloat\u001b[0m\u001b[0;34m(\u001b[0m\u001b[0;34m)\u001b[0m\u001b[0;34m\u001b[0m\u001b[0;34m\u001b[0m\u001b[0m\n\u001b[1;32m     20\u001b[0m         \u001b[0mprint\u001b[0m\u001b[0;34m(\u001b[0m\u001b[0;34m'loss type after casting'\u001b[0m\u001b[0;34m,\u001b[0m \u001b[0mloss\u001b[0m\u001b[0;34m.\u001b[0m\u001b[0mdtype\u001b[0m\u001b[0;34m)\u001b[0m\u001b[0;34m\u001b[0m\u001b[0;34m\u001b[0m\u001b[0m\n\u001b[0;32m---> 21\u001b[0;31m         \u001b[0mscaler\u001b[0m\u001b[0;34m.\u001b[0m\u001b[0mscale\u001b[0m\u001b[0;34m(\u001b[0m\u001b[0mloss\u001b[0m\u001b[0;34m)\u001b[0m\u001b[0;34m.\u001b[0m\u001b[0mbackward\u001b[0m\u001b[0;34m(\u001b[0m\u001b[0;34m)\u001b[0m\u001b[0;34m\u001b[0m\u001b[0;34m\u001b[0m\u001b[0m\n\u001b[0m\u001b[1;32m     22\u001b[0m         \u001b[0mscaler\u001b[0m\u001b[0;34m.\u001b[0m\u001b[0mstep\u001b[0m\u001b[0;34m(\u001b[0m\u001b[0moptim\u001b[0m\u001b[0;34m)\u001b[0m\u001b[0;34m\u001b[0m\u001b[0;34m\u001b[0m\u001b[0m\n\u001b[1;32m     23\u001b[0m         \u001b[0mscaler\u001b[0m\u001b[0;34m.\u001b[0m\u001b[0mupdate\u001b[0m\u001b[0;34m(\u001b[0m\u001b[0;34m)\u001b[0m\u001b[0;34m\u001b[0m\u001b[0;34m\u001b[0m\u001b[0m\n",
            "\u001b[0;32m/usr/local/lib/python3.6/dist-packages/torch/tensor.py\u001b[0m in \u001b[0;36mbackward\u001b[0;34m(self, gradient, retain_graph, create_graph)\u001b[0m\n\u001b[1;32m    183\u001b[0m                 \u001b[0mproducts\u001b[0m\u001b[0;34m.\u001b[0m \u001b[0mDefaults\u001b[0m \u001b[0mto\u001b[0m\u001b[0;31m \u001b[0m\u001b[0;31m`\u001b[0m\u001b[0;31m`\u001b[0m\u001b[0;32mFalse\u001b[0m\u001b[0;31m`\u001b[0m\u001b[0;31m`\u001b[0m\u001b[0;34m.\u001b[0m\u001b[0;34m\u001b[0m\u001b[0;34m\u001b[0m\u001b[0m\n\u001b[1;32m    184\u001b[0m         \"\"\"\n\u001b[0;32m--> 185\u001b[0;31m         \u001b[0mtorch\u001b[0m\u001b[0;34m.\u001b[0m\u001b[0mautograd\u001b[0m\u001b[0;34m.\u001b[0m\u001b[0mbackward\u001b[0m\u001b[0;34m(\u001b[0m\u001b[0mself\u001b[0m\u001b[0;34m,\u001b[0m \u001b[0mgradient\u001b[0m\u001b[0;34m,\u001b[0m \u001b[0mretain_graph\u001b[0m\u001b[0;34m,\u001b[0m \u001b[0mcreate_graph\u001b[0m\u001b[0;34m)\u001b[0m\u001b[0;34m\u001b[0m\u001b[0;34m\u001b[0m\u001b[0m\n\u001b[0m\u001b[1;32m    186\u001b[0m \u001b[0;34m\u001b[0m\u001b[0m\n\u001b[1;32m    187\u001b[0m     \u001b[0;32mdef\u001b[0m \u001b[0mregister_hook\u001b[0m\u001b[0;34m(\u001b[0m\u001b[0mself\u001b[0m\u001b[0;34m,\u001b[0m \u001b[0mhook\u001b[0m\u001b[0;34m)\u001b[0m\u001b[0;34m:\u001b[0m\u001b[0;34m\u001b[0m\u001b[0;34m\u001b[0m\u001b[0m\n",
            "\u001b[0;32m/usr/local/lib/python3.6/dist-packages/torch/autograd/__init__.py\u001b[0m in \u001b[0;36mbackward\u001b[0;34m(tensors, grad_tensors, retain_graph, create_graph, grad_variables)\u001b[0m\n\u001b[1;32m    125\u001b[0m     Variable._execution_engine.run_backward(\n\u001b[1;32m    126\u001b[0m         \u001b[0mtensors\u001b[0m\u001b[0;34m,\u001b[0m \u001b[0mgrad_tensors\u001b[0m\u001b[0;34m,\u001b[0m \u001b[0mretain_graph\u001b[0m\u001b[0;34m,\u001b[0m \u001b[0mcreate_graph\u001b[0m\u001b[0;34m,\u001b[0m\u001b[0;34m\u001b[0m\u001b[0;34m\u001b[0m\u001b[0m\n\u001b[0;32m--> 127\u001b[0;31m         allow_unreachable=True)  # allow_unreachable flag\n\u001b[0m\u001b[1;32m    128\u001b[0m \u001b[0;34m\u001b[0m\u001b[0m\n\u001b[1;32m    129\u001b[0m \u001b[0;34m\u001b[0m\u001b[0m\n",
            "\u001b[0;31mRuntimeError\u001b[0m: Found dtype Double but expected Float\nException raised from compute_types at /pytorch/aten/src/ATen/native/TensorIterator.cpp:183 (most recent call first):\nframe #0: c10::Error::Error(c10::SourceLocation, std::string) + 0x42 (0x7f478a7671e2 in /usr/local/lib/python3.6/dist-packages/torch/lib/libc10.so)\nframe #1: at::TensorIterator::compute_types(at::TensorIteratorConfig const&) + 0x259 (0x7f47c263e849 in /usr/local/lib/python3.6/dist-packages/torch/lib/libtorch_cpu.so)\nframe #2: at::TensorIterator::build(at::TensorIteratorConfig&) + 0x6b (0x7f47c2641feb in /usr/local/lib/python3.6/dist-packages/torch/lib/libtorch_cpu.so)\nframe #3: at::TensorIterator::TensorIterator(at::TensorIteratorConfig&) + 0xdd (0x7f47c264265d in /usr/local/lib/python3.6/dist-packages/torch/lib/libtorch_cpu.so)\nframe #4: at::native::mse_loss_backward_out(at::Tensor&, at::Tensor const&, at::Tensor const&, at::Tensor const&, long) + 0x18a (0x7f47c24a72ba in /usr/local/lib/python3.6/dist-packages/torch/lib/libtorch_cpu.so)\nframe #5: <unknown function> + 0xf48b70 (0x7f478bb18b70 in /usr/local/lib/python3.6/dist-packages/torch/lib/libtorch_cuda.so)\nframe #6: at::native::mse_loss_backward(at::Tensor const&, at::Tensor const&, at::Tensor const&, long) + 0x90 (0x7f47c24a3ce0 in /usr/local/lib/python3.6/dist-packages/torch/lib/libtorch_cpu.so)\nframe #7: <unknown function> + 0xf48c10 (0x7f478bb18c10 in /usr/local/lib/python3.6/dist-packages/torch/lib/libtorch_cuda.so)\nframe #8: <unknown function> + 0xf6ae96 (0x7f478bb3ae96 in /usr/local/lib/python3.6/dist-packages/torch/lib/libtorch_cuda.so)\nframe #9: at::mse_loss_backward(at::Tensor const&, at::Tensor const&, at::Tensor const&, long) + 0x119 (0x7f47c2966949 in /usr/local/lib/python3.6/dist-packages/torch/lib/libtorch_cpu.so)\nframe #10: <unknown function> + 0x2e03469 (0x7f47c45bf469 in /usr/local/lib/python3.6/dist-packages/torch/lib/libtorch_cpu.so)\nframe #11: <unknown function> + 0xa9ac76 (0x7f47c2256c76 in /usr/local/lib/python3.6/dist-packages/torch/lib/libtorch_cpu.so)\nframe #12: at::mse_loss_backward(at::Tensor const&, at::Tensor const&, at::Tensor const&, long) + 0x119 (0x7f47c2966949 in /usr/local/lib/python3.6/dist-packages/torch/lib/libtorch_cpu.so)\nframe #13: torch::autograd::generated::MseLossBackward::apply(std::vector<at::Tensor, std::allocator<at::Tensor> >&&) + 0x1af (0x7f47c44fb0cf in /usr/local/lib/python3.6/dist-packages/torch/lib/libtorch_cpu.so)\nframe #14: <unknown function> + 0x3375bb7 (0x7f47c4b31bb7 in /usr/local/lib/python3.6/dist-packages/torch/lib/libtorch_cpu.so)\nframe #15: torch::autograd::Engine::evaluate_function(std::shared_ptr<torch::autograd::GraphTask>&, torch::autograd::Node*, torch::autograd::InputBuffer&, std::shared_ptr<torch::autograd::ReadyQueue> const&) + 0x1400 (0x7f47c4b2d400 in /usr/local/lib/python3.6/dist-packages/torch/lib/libtorch_cpu.so)\nframe #16: torch::autograd::Engine::thread_main(std::shared_ptr<torch::autograd::GraphTask> const&) + 0x451 (0x7f47c4b2dfa1 in /usr/local/lib/python3.6/dist-packages/torch/lib/libtorch_cpu.so)\nframe #17: torch::autograd::Engine::thread_init(int, std::shared_ptr<torch::autograd::ReadyQueue> const&, bool) + 0x89 (0x7f47c4b26119 in /usr/local/lib/python3.6/dist-packages/torch/lib/libtorch_cpu.so)\nframe #18: torch::autograd::python::PythonEngine::thread_init(int, std::shared_ptr<torch::autograd::ReadyQueue> const&, bool) + 0x4a (0x7f47d22c634a in /usr/local/lib/python3.6/dist-packages/torch/lib/libtorch_python.so)\nframe #19: <unknown function> + 0xbd6df (0x7f47ee47e6df in /usr/lib/x86_64-linux-gnu/libstdc++.so.6)\nframe #20: <unknown function> + 0x76db (0x7f47ef5606db in /lib/x86_64-linux-gnu/libpthread.so.0)\nframe #21: clone + 0x3f (0x7f47ef899a3f in /lib/x86_64-linux-gnu/libc.so.6)\n"
          ]
        }
      ]
    }
  ]
}