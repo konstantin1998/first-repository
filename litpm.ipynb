{
  "nbformat": 4,
  "nbformat_minor": 0,
  "metadata": {
    "colab": {
      "name": "litpm.ipynb",
      "provenance": [],
      "collapsed_sections": [],
      "mount_file_id": "1YIh-EbKlh_2_3DZKyTB3pr3IASgYMJAx",
      "authorship_tag": "ABX9TyO7jOMzFGrXH37YMTUWvaqj",
      "include_colab_link": true
    },
    "kernelspec": {
      "name": "python3",
      "display_name": "Python 3"
    },
    "accelerator": "GPU"
  },
  "cells": [
    {
      "cell_type": "markdown",
      "metadata": {
        "id": "view-in-github",
        "colab_type": "text"
      },
      "source": [
        "<a href=\"https://colab.research.google.com/github/konstantin1998/first-repository/blob/master/litpm.ipynb\" target=\"_parent\"><img src=\"https://colab.research.google.com/assets/colab-badge.svg\" alt=\"Open In Colab\"/></a>"
      ]
    },
    {
      "cell_type": "code",
      "metadata": {
        "id": "bDxEwm_vXcLg",
        "colab_type": "code",
        "colab": {
          "base_uri": "https://localhost:8080/",
          "height": 34
        },
        "outputId": "65431162-49f0-497b-87ef-cb70cc69fba2"
      },
      "source": [
        "import os\n",
        "import torch\n",
        "import torch.nn as nn\n",
        "import torch.optim as optim\n",
        "import torch.backends.cudnn as cudnn\n",
        "\n",
        "import torchvision\n",
        "import torchvision.transforms as transforms\n",
        "import torchsummary\n",
        "\n",
        "from tqdm import tqdm_notebook\n",
        "import numpy as np\n",
        "import matplotlib.pyplot as plt\n",
        "from IPython.display import clear_output\n",
        "\n",
        "import PIL\n",
        "import cv2\n",
        "import pandas as pd\n",
        "%matplotlib inline\n",
        "\n",
        "device = torch.device('cuda') if torch.cuda.is_available() else torch.device('cpu')\n",
        "print(device)"
      ],
      "execution_count": null,
      "outputs": [
        {
          "output_type": "stream",
          "text": [
            "cuda\n"
          ],
          "name": "stdout"
        }
      ]
    },
    {
      "cell_type": "code",
      "metadata": {
        "id": "ELb85-lTXrXX",
        "colab_type": "code",
        "colab": {
          "base_uri": "https://localhost:8080/",
          "height": 34
        },
        "outputId": "8c41e1bf-c250-4a4a-84c4-fa43f36f47aa"
      },
      "source": [
        "from google.colab import drive\n",
        "drive.mount('/content/drive')"
      ],
      "execution_count": null,
      "outputs": [
        {
          "output_type": "stream",
          "text": [
            "Drive already mounted at /content/drive; to attempt to forcibly remount, call drive.mount(\"/content/drive\", force_remount=True).\n"
          ],
          "name": "stdout"
        }
      ]
    },
    {
      "cell_type": "code",
      "metadata": {
        "id": "7SUNlJzilQGM",
        "colab_type": "code",
        "colab": {}
      },
      "source": [
        "\n",
        "class DataGenerator():\n",
        "  def __init__(self, train_dir, test_dir, results_file):\n",
        "    self.train_dir = train_dir\n",
        "    self.test_dir = test_dir\n",
        "    results_df = pd.read_csv(results_file)\n",
        "    self.results = pd.Series(results_df['score'].values, index=results_df['name'].values)\n",
        "  \n",
        "  def get_quality(self, img_path):\n",
        "    dir, name = os.path.split(img_path)\n",
        "    quality = self.results[name]\n",
        "    return quality\n",
        "\n",
        "  def load_sample(self, path):\n",
        "    img = cv2.imread(path, cv2.IMREAD_GRAYSCALE)\n",
        "    img = img.reshape((1, *img.shape)).astype('float32')\n",
        "    tensor = torch.from_numpy(img)\n",
        "    return tensor\n",
        "  \n",
        "  def assign_qualities(self, dataset):\n",
        "    items = []\n",
        "    for sample in dataset.samples:\n",
        "      path, label = sample\n",
        "      quality = self.get_quality(path) \n",
        "      sample = (path, float(quality))\n",
        "      items.append(sample)\n",
        "    dataset.samples = items\n",
        "\n",
        "  def prepare_data(self):\n",
        "    trainset = torchvision.datasets.ImageFolder(\n",
        "      root=self.train_dir,\n",
        "      loader=self.load_sample\n",
        "    )\n",
        "    self.assign_qualities(trainset)\n",
        "    trainloader = torch.utils.data.DataLoader(\n",
        "      trainset,\n",
        "      batch_size=12,\n",
        "      shuffle=False,\n",
        "      num_workers=2\n",
        "    )\n",
        "\n",
        "    testset = torchvision.datasets.ImageFolder(\n",
        "      root=self.test_dir,\n",
        "      loader=self.load_sample\n",
        "    )\n",
        "    self.assign_qualities(testset)\n",
        "    testloader = torch.utils.data.DataLoader(\n",
        "      testset,\n",
        "      batch_size=4,\n",
        "      shuffle=False, \n",
        "      num_workers=2\n",
        "    )\n",
        "\n",
        "    return trainloader, testloader\n",
        "\n"
      ],
      "execution_count": null,
      "outputs": []
    },
    {
      "cell_type": "code",
      "metadata": {
        "id": "_LaKoXs_HhDm",
        "colab_type": "code",
        "colab": {}
      },
      "source": [
        "data_generator = DataGenerator('/content/drive/My Drive/Pictures/cropped_old/train',\n",
        "                               '/content/drive/My Drive/Pictures/cropped_old/test',\n",
        "                               '/content/drive/My Drive/Pictures/cropped_old/results.csv')\n",
        "trainloader, testloader = data_generator.prepare_data()"
      ],
      "execution_count": null,
      "outputs": []
    },
    {
      "cell_type": "code",
      "metadata": {
        "id": "bQxDrhO9hqDj",
        "colab_type": "code",
        "colab": {}
      },
      "source": [
        "class Model(nn.Module):\n",
        "  def __init__(self):\n",
        "    super().__init__()\n",
        "    self.conv1 = nn.Sequential(\n",
        "        nn.Conv2d(1, 10, 4),\n",
        "        nn.BatchNorm2d(10),\n",
        "        nn.ReLU(),\n",
        "        nn.MaxPool2d(4)\n",
        "    )\n",
        "    self.conv2 = nn.Sequential(\n",
        "        nn.Conv2d(10, 5, 4),\n",
        "        nn.BatchNorm2d(5),\n",
        "        nn.ReLU(),\n",
        "        nn.MaxPool2d(4)\n",
        "    )    \n",
        "    \n",
        "    self.fc = nn.Linear(5*244*106, 1)\n",
        "      \n",
        "  def forward(self, x):\n",
        "    x = self.conv1(x)\n",
        "    x = self.conv2(x)\n",
        "    #x = self.conv3(x)\n",
        "\n",
        "    x = x.view(x.size(0), -1)   \n",
        "    x = self.fc(x)\n",
        "    return x\n"
      ],
      "execution_count": null,
      "outputs": []
    },
    {
      "cell_type": "code",
      "metadata": {
        "id": "9uGnFis_qSt7",
        "colab_type": "code",
        "colab": {}
      },
      "source": [
        "def train(model, optim, criterion, dataloader, epoch, device):\n",
        "    total = 0\n",
        "    train_loss = 0\n",
        "    \n",
        "    model.train()\n",
        "    for data, label in dataloader:\n",
        "        data, label = data.to(device), label.to(device)\n",
        "        optim.zero_grad()\n",
        "        output = model(data)\n",
        "        output = output.reshape((output.shape[0])).float()\n",
        "        label = label.float()\n",
        "        \n",
        "        \n",
        "        loss = criterion(output, label)\n",
        "        loss.backward()\n",
        "        optim.step()\n",
        "        \n",
        "        train_loss += loss.item()\n",
        "        total += output.shape[0]\n",
        "        \n",
        "    return train_loss / total"
      ],
      "execution_count": null,
      "outputs": []
    },
    {
      "cell_type": "code",
      "metadata": {
        "id": "ntxD0YuDqYEz",
        "colab_type": "code",
        "colab": {}
      },
      "source": [
        "def test(model, criterion, dataloader, epoch, device, model_name='model'):\n",
        "    total = 0\n",
        "    test_loss = 0\n",
        "    \n",
        "    model.eval()\n",
        "    with torch.no_grad():\n",
        "        for data, label in dataloader:\n",
        "            data, label = data.to(device), label.to(device)\n",
        "            output = model(data)\n",
        "            output = output.reshape((output.shape[0])).float()\n",
        "            label = label.float()\n",
        "\n",
        "           \n",
        "\n",
        "            loss = criterion(output, label)\n",
        "            test_loss += loss\n",
        "            total += data.shape[0]\n",
        "    \n",
        "    return test_loss / total"
      ],
      "execution_count": null,
      "outputs": []
    },
    {
      "cell_type": "code",
      "metadata": {
        "id": "1txbi-h6ObJp",
        "colab_type": "code",
        "colab": {
          "base_uri": "https://localhost:8080/",
          "height": 391
        },
        "outputId": "5e61aba5-6e82-4454-e36b-071445d78ff6"
      },
      "source": [
        "torch.manual_seed(1)\n",
        "model = Model()\n",
        "torchsummary.summary(model.cuda(), (1, 3933, 1724))"
      ],
      "execution_count": null,
      "outputs": [
        {
          "output_type": "stream",
          "text": [
            "----------------------------------------------------------------\n",
            "        Layer (type)               Output Shape         Param #\n",
            "================================================================\n",
            "            Conv2d-1       [-1, 10, 3930, 1721]             170\n",
            "       BatchNorm2d-2       [-1, 10, 3930, 1721]              20\n",
            "              ReLU-3       [-1, 10, 3930, 1721]               0\n",
            "         MaxPool2d-4         [-1, 10, 982, 430]               0\n",
            "            Conv2d-5          [-1, 5, 979, 427]             805\n",
            "       BatchNorm2d-6          [-1, 5, 979, 427]              10\n",
            "              ReLU-7          [-1, 5, 979, 427]               0\n",
            "         MaxPool2d-8          [-1, 5, 244, 106]               0\n",
            "            Linear-9                    [-1, 1]         129,321\n",
            "================================================================\n",
            "Total params: 130,326\n",
            "Trainable params: 130,326\n",
            "Non-trainable params: 0\n",
            "----------------------------------------------------------------\n",
            "Input size (MB): 25.87\n",
            "Forward/backward pass size (MB): 1629.09\n",
            "Params size (MB): 0.50\n",
            "Estimated Total Size (MB): 1655.45\n",
            "----------------------------------------------------------------\n"
          ],
          "name": "stdout"
        }
      ]
    },
    {
      "cell_type": "code",
      "metadata": {
        "id": "_TUNt3PArnJM",
        "colab_type": "code",
        "colab": {}
      },
      "source": [
        "model = model.to(device)\n",
        "\n",
        "criterion = nn.MSELoss()\n",
        "optimizer = optim.Adam(model.parameters(), lr=0.01)\n",
        "scheduler = optim.lr_scheduler.StepLR(optimizer, 2, gamma=0.5)"
      ],
      "execution_count": null,
      "outputs": []
    },
    {
      "cell_type": "code",
      "metadata": {
        "id": "pjnIiZWdrxwd",
        "colab_type": "code",
        "colab": {
          "base_uri": "https://localhost:8080/",
          "height": 570
        },
        "outputId": "f5f207da-3787-43f5-cb66-63286f04a28b"
      },
      "source": [
        "train_losses = []\n",
        "test_losses = []\n",
        "\n",
        "best_loss = 20700\n",
        "num_epochs = 4\n",
        "for i in range(num_epochs):\n",
        "    train_loss = train(model, optimizer, criterion, trainloader, i, device)\n",
        "    train_losses.append(train_loss)\n",
        "    test_loss = test(model, criterion, testloader, i, device)\n",
        "    scheduler.step(test_loss) \n",
        "    test_losses.append(test_loss)\n",
        "      \n",
        "    if test_loss < best_loss:\n",
        "        print('Saving..')\n",
        "        best_loss = test_loss\n",
        "        torch.save(model, '/content/drive/My Drive/Pictures/cropped_old/models/ckpt31.07.21.29.pth')\n",
        "\n",
        "    clear_output()\n",
        "    plt.figure(figsize=(18, 9))\n",
        "    plt.plot(np.arange(len(train_losses)), train_losses, label=f'Train, loss: {train_loss:.4f}')\n",
        "    plt.plot(np.arange(len(test_losses)), test_losses, label=f'Test, loss: {test_loss:.4f}')\n",
        "    plt.title(f'Epoch {i}')\n",
        "    plt.legend(loc='best')\n",
        "    plt.show()\n",
        "\n",
        "print('test losses:', test_losses)\n",
        "    "
      ],
      "execution_count": null,
      "outputs": [
        {
          "output_type": "display_data",
          "data": {
            "image/png": "[encoded data removed]",
            "text/plain": [
              "<Figure size 1296x648 with 1 Axes>"
            ]
          },
          "metadata": {
            "tags": [],
            "needs_background": "light"
          }
        },
        {
          "output_type": "stream",
          "text": [
            "test losses: [tensor(1794018.8750, device='cuda:0'), tensor(11977.8281, device='cuda:0'), tensor(6337.3696, device='cuda:0'), tensor(6123.4209, device='cuda:0')]\n"
          ],
          "name": "stdout"
        }
      ]
    }
  ]
}