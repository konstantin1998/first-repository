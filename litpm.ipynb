{
  "nbformat": 4,
  "nbformat_minor": 0,
  "metadata": {
    "colab": {
      "name": "litpm.ipynb",
      "provenance": [],
      "collapsed_sections": [],
      "mount_file_id": "1YIh-EbKlh_2_3DZKyTB3pr3IASgYMJAx",
      "authorship_tag": "ABX9TyNPPwpujaf8MCeKmxWPjuXB",
      "include_colab_link": true
    },
    "kernelspec": {
      "name": "python3",
      "display_name": "Python 3"
    },
    "accelerator": "GPU"
  },
  "cells": [
    {
      "cell_type": "markdown",
      "metadata": {
        "id": "view-in-github",
        "colab_type": "text"
      },
      "source": [
        "<a href=\"https://colab.research.google.com/github/konstantin1998/first-repository/blob/master/litpm.ipynb\" target=\"_parent\"><img src=\"https://colab.research.google.com/assets/colab-badge.svg\" alt=\"Open In Colab\"/></a>"
      ]
    },
    {
      "cell_type": "code",
      "metadata": {
        "id": "bDxEwm_vXcLg",
        "colab_type": "code",
        "colab": {
          "base_uri": "https://localhost:8080/",
          "height": 34
        },
        "outputId": "7b39bc18-0942-4b81-89c7-b8747353be58"
      },
      "source": [
        "import os\n",
        "import torch\n",
        "import torch.nn as nn\n",
        "import torch.optim as optim\n",
        "import torch.backends.cudnn as cudnn\n",
        "\n",
        "import torchvision\n",
        "import torchvision.transforms as transforms\n",
        "import torchsummary\n",
        "\n",
        "from tqdm import tqdm_notebook\n",
        "import numpy as np\n",
        "import matplotlib.pyplot as plt\n",
        "from IPython.display import clear_output\n",
        "\n",
        "import PIL\n",
        "import cv2\n",
        "import pandas as pd\n",
        "from sklearn.model_selection import train_test_split\n",
        "%matplotlib inline\n",
        "\n",
        "device = torch.device('cuda') if torch.cuda.is_available() else torch.device('cpu')\n",
        "print(device)"
      ],
      "execution_count": 1,
      "outputs": [
        {
          "output_type": "stream",
          "text": [
            "cuda\n"
          ],
          "name": "stdout"
        }
      ]
    },
    {
      "cell_type": "code",
      "metadata": {
        "id": "ELb85-lTXrXX",
        "colab_type": "code",
        "colab": {
          "base_uri": "https://localhost:8080/",
          "height": 34
        },
        "outputId": "81103b64-dd02-4df4-b1f6-eee8bbc44a8d"
      },
      "source": [
        "from google.colab import drive\n",
        "drive.mount('/content/drive')"
      ],
      "execution_count": 2,
      "outputs": [
        {
          "output_type": "stream",
          "text": [
            "Drive already mounted at /content/drive; to attempt to forcibly remount, call drive.mount(\"/content/drive\", force_remount=True).\n"
          ],
          "name": "stdout"
        }
      ]
    },
    {
      "cell_type": "code",
      "metadata": {
        "id": "7SUNlJzilQGM",
        "colab_type": "code",
        "colab": {}
      },
      "source": [
        "class DataGenerator():\n",
        "  def __init__(self, train_dir, test_dir, results_file):\n",
        "    self.train_dir = train_dir\n",
        "    self.test_dir = test_dir\n",
        "    results_df = pd.read_csv(results_file)\n",
        "    self.results = pd.Series(results_df['score'].values, index=results_df['name'].values)\n",
        "  \n",
        "  def get_quality(self, img_path):\n",
        "    dir, name = os.path.split(img_path)\n",
        "    quality = self.results[name]\n",
        "    return quality\n",
        "\n",
        "  def load_sample(self, path):\n",
        "    img = cv2.imread(path, cv2.IMREAD_GRAYSCALE)\n",
        "    img = img.reshape((1, *img.shape)).astype('float32')\n",
        "    tensor = torch.from_numpy(img)\n",
        "    return tensor\n",
        "  \n",
        "  def shuffle(self, arr):\n",
        "    part1, part2 = train_test_split(arr, train_size=0.5, random_state=42)\n",
        "    part1.extend(part2)\n",
        "    return part1\n",
        "\n",
        "  def assign_qualities(self, dataset):\n",
        "    items = []\n",
        "    for sample in dataset.samples:\n",
        "      path, label = sample\n",
        "      quality = self.get_quality(path) \n",
        "      sample = (path, float(quality))\n",
        "      items.append(sample)\n",
        "    items = self.shuffle(items)\n",
        "    dataset.samples = items\n",
        "\n",
        "  def prepare_data(self):\n",
        "    trainset = torchvision.datasets.ImageFolder(\n",
        "      root=self.train_dir,\n",
        "      loader=self.load_sample\n",
        "    )\n",
        "    self.assign_qualities(trainset)\n",
        "    trainloader = torch.utils.data.DataLoader(\n",
        "      trainset,\n",
        "      batch_size=60,\n",
        "      shuffle=False,\n",
        "      num_workers=4\n",
        "    )\n",
        "    print(len(trainset.samples))\n",
        "    testset = torchvision.datasets.ImageFolder(\n",
        "      root=self.test_dir,\n",
        "      loader=self.load_sample\n",
        "    )\n",
        "    print(len(testset.samples))\n",
        "    self.assign_qualities(testset)\n",
        "    testloader = torch.utils.data.DataLoader(\n",
        "      testset,\n",
        "      batch_size=20,\n",
        "      shuffle=False, \n",
        "      num_workers=2\n",
        "    )\n",
        "\n",
        "    return trainloader, testloader\n"
      ],
      "execution_count": 2,
      "outputs": []
    },
    {
      "cell_type": "code",
      "metadata": {
        "id": "_LaKoXs_HhDm",
        "colab_type": "code",
        "colab": {
          "base_uri": "https://localhost:8080/",
          "height": 51
        },
        "outputId": "f93f523f-39ae-4f16-8aaa-07dbb5512dc4"
      },
      "source": [
        "data_generator = DataGenerator('/content/drive/My Drive/Dataset/cropped534x1000/train',\n",
        "                               '/content/drive/My Drive/Dataset/cropped534x1000/test',\n",
        "                               '/content/drive/My Drive/Dataset/cropped534x1000/results.csv')\n",
        "trainloader, testloader = data_generator.prepare_data()"
      ],
      "execution_count": 4,
      "outputs": [
        {
          "output_type": "stream",
          "text": [
            "11792\n",
            "2950\n"
          ],
          "name": "stdout"
        }
      ]
    },
    {
      "cell_type": "code",
      "metadata": {
        "id": "bQxDrhO9hqDj",
        "colab_type": "code",
        "colab": {}
      },
      "source": [
        "class Model(nn.Module):\n",
        "  def __init__(self):\n",
        "    super().__init__()\n",
        "    self.conv1 = nn.Sequential(\n",
        "        nn.Conv2d(1, 8, 4),\n",
        "        nn.BatchNorm2d(8),\n",
        "        nn.ReLU(),\n",
        "        nn.MaxPool2d(2)  \n",
        "    )\n",
        "    self.conv2 = nn.Sequential(\n",
        "        nn.Conv2d(in_channels=8, out_channels=16, kernel_size=3, dilation=3),\n",
        "        nn.BatchNorm2d(16),\n",
        "        nn.ReLU(),\n",
        "        nn.MaxPool2d(2)\n",
        "    )    \n",
        "    self.conv3 = nn.Sequential(\n",
        "        nn.Conv2d(16, 32, 4),\n",
        "        nn.BatchNorm2d(32),\n",
        "        nn.ReLU(),\n",
        "        nn.MaxPool2d(2)       \n",
        "    )\n",
        "    self.conv4 = nn.Sequential(\n",
        "        nn.Conv2d(in_channels=32, out_channels=64, kernel_size=3, dilation=3),\n",
        "        nn.BatchNorm2d(64),\n",
        "        nn.ReLU()         \n",
        "    )\n",
        "    self.conv5 = nn.Sequential(\n",
        "        nn.Conv2d(64, 160, 4),\n",
        "        nn.BatchNorm2d(160),\n",
        "        nn.ReLU()       \n",
        "    )\n",
        "    self.conv6 = nn.Sequential(\n",
        "        nn.Conv2d(in_channels=160, out_channels=128, kernel_size=4, dilation=3),\n",
        "        nn.BatchNorm2d(128),\n",
        "        nn.ReLU() \n",
        "    )\n",
        "    self.conv7 = nn.Sequential(\n",
        "        nn.Conv2d(128, 64, 4),\n",
        "        nn.BatchNorm2d(64),\n",
        "        nn.ReLU()\n",
        "    )\n",
        "    self.conv8 = nn.Sequential(\n",
        "        nn.Conv2d(in_channels=64, out_channels=32, kernel_size=3, dilation=3),\n",
        "        nn.BatchNorm2d(32),\n",
        "        nn.ReLU()\n",
        "    )\n",
        "    self.conv9 = nn.Sequential(\n",
        "        nn.Conv2d(32, 16, 4),\n",
        "        nn.BatchNorm2d(16),\n",
        "        nn.ReLU()\n",
        "    )\n",
        "    self.conv10 = nn.Sequential(\n",
        "        nn.Conv2d(16, 8, 4),\n",
        "        nn.BatchNorm2d(8),\n",
        "        nn.ReLU()\n",
        "    )\n",
        "    self.conv11 = nn.Sequential(\n",
        "        nn.Conv2d(8, 4, 4),\n",
        "        nn.BatchNorm2d(4),\n",
        "        nn.ReLU()\n",
        "    )\n",
        "    self.fc = nn.Linear(4 * 27 * 85, 1)\n",
        "      \n",
        "  def forward(self, x):\n",
        "    x = self.conv1(x)\n",
        "    x = self.conv2(x)\n",
        "    x = self.conv3(x)\n",
        "    x = self.conv4(x)\n",
        "    x = self.conv5(x)\n",
        "    x = self.conv6(x)\n",
        "    x = self.conv7(x)\n",
        "    x = self.conv8(x)\n",
        "    x = self.conv9(x)\n",
        "    x = self.conv10(x)\n",
        "    x = self.conv11(x)\n",
        "\n",
        "    x = x.view(x.size(0), -1)   \n",
        "    x = self.fc(x)\n",
        "    return x\n"
      ],
      "execution_count": 10,
      "outputs": []
    },
    {
      "cell_type": "code",
      "metadata": {
        "id": "9uGnFis_qSt7",
        "colab_type": "code",
        "colab": {}
      },
      "source": [
        "def train(model, optim, criterion, dataloader, epoch, device):\n",
        "    total = 0\n",
        "    train_loss = 0\n",
        "    \n",
        "    model.train()\n",
        "    for data, label in dataloader:\n",
        "        #print(data)\n",
        "        data, label = data.to(device), label.to(device)\n",
        "        optim.zero_grad()\n",
        "        output = model(data)\n",
        "        output = output.reshape((output.shape[0])).float()\n",
        "        label = label.float()\n",
        "        \n",
        "        \n",
        "        loss = criterion(output, label)\n",
        "        loss.backward()\n",
        "        optim.step()\n",
        "        \n",
        "        train_loss += loss.item()\n",
        "        total += output.shape[0]\n",
        "        \n",
        "    return train_loss / total"
      ],
      "execution_count": 7,
      "outputs": []
    },
    {
      "cell_type": "code",
      "metadata": {
        "id": "ntxD0YuDqYEz",
        "colab_type": "code",
        "colab": {}
      },
      "source": [
        "def test(model, criterion, dataloader, epoch, device, model_name='model'):\n",
        "    total = 0\n",
        "    test_loss = 0\n",
        "    \n",
        "    model.eval()\n",
        "    with torch.no_grad():\n",
        "        for data, label in dataloader:\n",
        "            data, label = data.to(device), label.to(device)\n",
        "            output = model(data)\n",
        "            output = output.reshape((output.shape[0])).float()\n",
        "            label = label.float()\n",
        "\n",
        "           \n",
        "\n",
        "            loss = criterion(output, label)\n",
        "            test_loss += loss\n",
        "            total += data.shape[0]\n",
        "    \n",
        "    return test_loss / total"
      ],
      "execution_count": 8,
      "outputs": []
    },
    {
      "cell_type": "code",
      "metadata": {
        "id": "1txbi-h6ObJp",
        "colab_type": "code",
        "colab": {
          "base_uri": "https://localhost:8080/",
          "height": 867
        },
        "outputId": "66a612e6-bcde-48b7-97a1-5e93d5e3006e"
      },
      "source": [
        "torch.manual_seed(10)\n",
        "model = Model()\n",
        "torchsummary.summary(model.cuda(), (1, 534, 1000))"
      ],
      "execution_count": 11,
      "outputs": [
        {
          "output_type": "stream",
          "text": [
            "----------------------------------------------------------------\n",
            "        Layer (type)               Output Shape         Param #\n",
            "================================================================\n",
            "            Conv2d-1          [-1, 8, 531, 997]             136\n",
            "       BatchNorm2d-2          [-1, 8, 531, 997]              16\n",
            "              ReLU-3          [-1, 8, 531, 997]               0\n",
            "         MaxPool2d-4          [-1, 8, 265, 498]               0\n",
            "            Conv2d-5         [-1, 16, 259, 492]           1,168\n",
            "       BatchNorm2d-6         [-1, 16, 259, 492]              32\n",
            "              ReLU-7         [-1, 16, 259, 492]               0\n",
            "         MaxPool2d-8         [-1, 16, 129, 246]               0\n",
            "            Conv2d-9         [-1, 32, 126, 243]           8,224\n",
            "      BatchNorm2d-10         [-1, 32, 126, 243]              64\n",
            "             ReLU-11         [-1, 32, 126, 243]               0\n",
            "        MaxPool2d-12          [-1, 32, 63, 121]               0\n",
            "           Conv2d-13          [-1, 64, 57, 115]          18,496\n",
            "      BatchNorm2d-14          [-1, 64, 57, 115]             128\n",
            "             ReLU-15          [-1, 64, 57, 115]               0\n",
            "           Conv2d-16         [-1, 160, 54, 112]         164,000\n",
            "      BatchNorm2d-17         [-1, 160, 54, 112]             320\n",
            "             ReLU-18         [-1, 160, 54, 112]               0\n",
            "           Conv2d-19         [-1, 128, 45, 103]         327,808\n",
            "      BatchNorm2d-20         [-1, 128, 45, 103]             256\n",
            "             ReLU-21         [-1, 128, 45, 103]               0\n",
            "           Conv2d-22          [-1, 64, 42, 100]         131,136\n",
            "      BatchNorm2d-23          [-1, 64, 42, 100]             128\n",
            "             ReLU-24          [-1, 64, 42, 100]               0\n",
            "           Conv2d-25           [-1, 32, 36, 94]          18,464\n",
            "      BatchNorm2d-26           [-1, 32, 36, 94]              64\n",
            "             ReLU-27           [-1, 32, 36, 94]               0\n",
            "           Conv2d-28           [-1, 16, 33, 91]           8,208\n",
            "      BatchNorm2d-29           [-1, 16, 33, 91]              32\n",
            "             ReLU-30           [-1, 16, 33, 91]               0\n",
            "           Conv2d-31            [-1, 8, 30, 88]           2,056\n",
            "      BatchNorm2d-32            [-1, 8, 30, 88]              16\n",
            "             ReLU-33            [-1, 8, 30, 88]               0\n",
            "           Conv2d-34            [-1, 4, 27, 85]             516\n",
            "      BatchNorm2d-35            [-1, 4, 27, 85]               8\n",
            "             ReLU-36            [-1, 4, 27, 85]               0\n",
            "           Linear-37                    [-1, 1]           9,181\n",
            "================================================================\n",
            "Total params: 690,457\n",
            "Trainable params: 690,457\n",
            "Non-trainable params: 0\n",
            "----------------------------------------------------------------\n",
            "Input size (MB): 2.04\n",
            "Forward/backward pass size (MB): 235.57\n",
            "Params size (MB): 2.63\n",
            "Estimated Total Size (MB): 240.24\n",
            "----------------------------------------------------------------\n"
          ],
          "name": "stdout"
        }
      ]
    },
    {
      "cell_type": "code",
      "metadata": {
        "id": "_TUNt3PArnJM",
        "colab_type": "code",
        "colab": {}
      },
      "source": [
        "model = model.to(device)\n",
        "\n",
        "criterion = nn.MSELoss()\n",
        "optimizer = optim.Adam(model.parameters(), lr=0.01)\n",
        "scheduler = optim.lr_scheduler.StepLR(optimizer, 2, gamma=0.5)"
      ],
      "execution_count": 12,
      "outputs": []
    },
    {
      "cell_type": "code",
      "metadata": {
        "id": "pjnIiZWdrxwd",
        "colab_type": "code",
        "colab": {
          "base_uri": "https://localhost:8080/",
          "height": 570
        },
        "outputId": "f4cdccfb-5be0-4e66-b9b2-8af93d197c76"
      },
      "source": [
        "train_losses = []\n",
        "test_losses = []\n",
        "\n",
        "best_loss = 1000000\n",
        "num_epochs = 4\n",
        "for i in range(num_epochs):\n",
        "    train_loss = train(model, optimizer, criterion, trainloader, i, device)\n",
        "    train_losses.append(train_loss)\n",
        "    test_loss = test(model, criterion, testloader, i, device)\n",
        "    scheduler.step(test_loss) \n",
        "    test_losses.append(test_loss)\n",
        "      \n",
        "    if test_loss < best_loss:\n",
        "        print('Saving...')\n",
        "        best_loss = test_loss\n",
        "        torch.save(model, '/content/drive/My Drive/Dataset/cropped534x1000/models/ckpt_11conv.pth')\n",
        "    \n",
        "    clear_output()\n",
        "    plt.figure(figsize=(18, 9))\n",
        "    plt.plot(np.arange(len(train_losses)), train_losses, label=f'Train, loss: {train_loss:.4f}')\n",
        "    plt.plot(np.arange(len(test_losses)), test_losses, label=f'Test, loss: {test_loss:.4f}')\n",
        "    plt.title(f'Epoch {i}')\n",
        "    plt.legend(loc='best')\n",
        "    plt.show()\n",
        "\n",
        "print('test losses:', test_losses)\n",
        "    "
      ],
      "execution_count": 13,
      "outputs": [
        {
          "output_type": "display_data",
          "data": {
            "image/png": "[encoded data removed]",
            "text/plain": [
              "<Figure size 1296x648 with 1 Axes>"
            ]
          },
          "metadata": {
            "tags": [],
            "needs_background": "light"
          }
        },
        {
          "output_type": "stream",
          "text": [
            "test losses: [tensor(9833.4688, device='cuda:0'), tensor(1474.9515, device='cuda:0'), tensor(1474.9515, device='cuda:0'), tensor(1474.9515, device='cuda:0')]\n"
          ],
          "name": "stdout"
        }
      ]
    },
    {
      "cell_type": "code",
      "metadata": {
        "id": "HElLrU4FK-zc",
        "colab_type": "code",
        "colab": {}
      },
      "source": [
        "torch.save(model, '/content/drive/My Drive/Dataset/models/ckpt_11conv.pth')"
      ],
      "execution_count": null,
      "outputs": []
    }
  ]
}